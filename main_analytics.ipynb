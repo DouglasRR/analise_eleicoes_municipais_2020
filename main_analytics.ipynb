{
 "cells": [
  {
   "cell_type": "markdown",
   "metadata": {},
   "source": [
    "#### Imports"
   ]
  },
  {
   "cell_type": "code",
   "execution_count": 14,
   "metadata": {},
   "outputs": [],
   "source": [
    "# Manipulação de dados\n",
    "import pandas as pd\n",
    "pd.set_option('display.max_columns', None)\n",
    "\n",
    "# Estética do Código\n",
    "import os\n",
    "\n",
    "# Trabalhar com tempo no código\n",
    "from time import sleep\n",
    "\n",
    "# Display\n",
    "import ipywidgets as widgets\n",
    "from IPython.display import display, clear_output"
   ]
  },
  {
   "cell_type": "markdown",
   "metadata": {},
   "source": [
    "### Análises"
   ]
  },
  {
   "cell_type": "markdown",
   "metadata": {},
   "source": [
    "#### Análise 1: Qual candidato foi mais votado no município X?"
   ]
  },
  {
   "cell_type": "code",
   "execution_count": 19,
   "metadata": {},
   "outputs": [],
   "source": [
    "# Dados\n",
    "municipios = pd.read_excel('perfil_municipio.xlsx')\n",
    "candidatos = pd.read_excel('SPturno1_candidatos.xlsx')\n",
    "cargos = pd.read_excel('SPturno1_cargos.xlsx')\n",
    "resultado = pd.read_csv('SPturno1_clean.csv', usecols=['CD_MUNICIPIO', 'CD_CARGO_PERGUNTA', 'ID_CANDIDATO', 'QT_COMPARECIMENTO'])\n",
    "\n",
    "# Excluir linhas onde ID_CANDIDATO é igual a 0 ou 7\n",
    "resultado = resultado[~resultado['ID_CANDIDATO'].isin([0, 7])]\n",
    "\n",
    "# JOIN com 'municipios' para obter informações sobre os municípios\n",
    "merge_municipios = resultado.merge(municipios, left_on='CD_MUNICIPIO', right_on='CD_MUNICIPIO')\n",
    "\n",
    "# JOIN com 'candidatos' para obter informações sobre os candidatos\n",
    "merge_completo = merge_municipios.merge(candidatos, left_on='ID_CANDIDATO', right_on='ID_CANDIDATO')\n",
    "\n",
    "# Agrupar por nome de município e cargo, e calcular a soma dos votos por código de candidato\n",
    "grouped = merge_completo.groupby(['NM_MUNICIPIO', 'DS_CARGO_PERGUNTA', 'NM_CANDIDATO'])['QT_COMPARECIMENTO'].sum().reset_index()\n",
    "\n",
    "# Encontrar o candidato mais votado para cada grupo\n",
    "idx_max_votos = grouped.groupby(['NM_MUNICIPIO', 'DS_CARGO_PERGUNTA'])['QT_COMPARECIMENTO'].idxmax()\n",
    "candidatos_mais_votados = grouped.loc[idx_max_votos]"
   ]
  },
  {
   "cell_type": "code",
   "execution_count": 18,
   "metadata": {},
   "outputs": [
    {
     "data": {
      "application/vnd.jupyter.widget-view+json": {
       "model_id": "2ec732eb997c4fc18ffea2f13dd2bb7e",
       "version_major": 2,
       "version_minor": 0
      },
      "text/plain": [
       "Text(value='', description='Pesquisar:', placeholder='Digite o nome do município...')"
      ]
     },
     "metadata": {},
     "output_type": "display_data"
    },
    {
     "data": {
      "application/vnd.jupyter.widget-view+json": {
       "model_id": "2d0844d33b194badb40732f6c43a67b6",
       "version_major": 2,
       "version_minor": 0
      },
      "text/plain": [
       "interactive(children=(Dropdown(description='Município:', options=('ADAMANTINA', 'ADOLFO', 'AGUAÍ', 'AGUDOS', '…"
      ]
     },
     "metadata": {},
     "output_type": "display_data"
    },
    {
     "data": {
      "text/plain": [
       "<function __main__.display_filtered_results(selected_municipio)>"
      ]
     },
     "execution_count": 18,
     "metadata": {},
     "output_type": "execute_result"
    }
   ],
   "source": [
    "# Função para atualizar a lista de municípios com base no texto digitado\n",
    "def update_municipios(change):\n",
    "    selected_text = change.new.lower()\n",
    "    if selected_text:\n",
    "        filtered_municipios = candidatos_mais_votados[candidatos_mais_votados['NM_MUNICIPIO'].str.lower().str.startswith(selected_text)]\n",
    "        municipios_dropdown.options = filtered_municipios['NM_MUNICIPIO'].unique().tolist()\n",
    "    else:\n",
    "        municipios_dropdown.options = candidatos_mais_votados['NM_MUNICIPIO'].unique().tolist()\n",
    "\n",
    "# Função para exibir os resultados filtrados\n",
    "def display_filtered_results(selected_municipio):\n",
    "    clear_output(wait=True)  # Limpar saída anterior\n",
    "    filtered_results = candidatos_mais_votados[candidatos_mais_votados['NM_MUNICIPIO'] == selected_municipio]\n",
    "    display(filtered_results)\n",
    "\n",
    "# Criar caixa de texto interativa\n",
    "search_box = widgets.Text(\n",
    "    value='',\n",
    "    placeholder='Digite o nome do município...',\n",
    "    description='Pesquisar:',\n",
    "    disabled=False\n",
    ")\n",
    "\n",
    "# Atualizar a lista de municípios quando o texto for digitado\n",
    "search_box.observe(update_municipios, names='value')\n",
    "\n",
    "# Criar dropdown para exibir os municípios filtrados\n",
    "municipios_dropdown = widgets.Dropdown(\n",
    "    options=candidatos_mais_votados['NM_MUNICIPIO'].unique().tolist(),\n",
    "    description='Município:'\n",
    ")\n",
    "\n",
    "# Exibir caixa de texto e dropdown\n",
    "display(search_box)\n",
    "\n",
    "# Atualizar os resultados filtrados quando o usuário selecionar um município no dropdown\n",
    "widgets.interact(display_filtered_results, selected_municipio=municipios_dropdown)\n"
   ]
  },
  {
   "cell_type": "markdown",
   "metadata": {},
   "source": [
    "#### Análise 2: Qual município o candidato X foi mais votado?"
   ]
  },
  {
   "cell_type": "code",
   "execution_count": 21,
   "metadata": {},
   "outputs": [
    {
     "name": "stdout",
     "output_type": "stream",
     "text": [
      "                     NM_CANDIDATO       NM_MUNICIPIO  QT_COMPARECIMENTO\n",
      "0                  A C CALCULISTA            TAUBATÉ              70140\n",
      "1                     A CASSIMIRO        SERTÃOZINHO              16248\n",
      "2      A DONA ONÇA DOS BRINQUEDOS       PITANGUEIRAS               7068\n",
      "3                      A MARICATO       ITAPETININGA               2425\n",
      "4                    AARON TRESNY           VALINHOS               7638\n",
      "...                           ...                ...                ...\n",
      "90928                 ÍTALA LAGES               IPUÃ               4764\n",
      "90929             ÍTALO CAVENAGHI           BARRETOS              12841\n",
      "90930           ÍTALO DA MARABRAZ            CAJAMAR              28746\n",
      "90931             ÍTALO GONÇALVES  BRAGANÇA PAULISTA              19098\n",
      "90932               ÍTALO MOREIRA           SOROCABA             272992\n",
      "\n",
      "[73824 rows x 3 columns]\n"
     ]
    }
   ],
   "source": [
    "# Dados\n",
    "municipios = pd.read_excel('perfil_municipio.xlsx')\n",
    "candidatos = pd.read_excel('SPturno1_candidatos.xlsx')\n",
    "cargos = pd.read_excel('SPturno1_cargos.xlsx')\n",
    "resultado = pd.read_csv('SPturno1_clean.csv', usecols=['CD_MUNICIPIO', 'CD_CARGO_PERGUNTA', 'ID_CANDIDATO', 'QT_COMPARECIMENTO'])\n",
    "\n",
    "# Realizar o groupby e a agregação\n",
    "grouped = merge_completo.groupby(['NM_CANDIDATO', 'NM_MUNICIPIO'])['QT_COMPARECIMENTO'].sum().reset_index()\n",
    "\n",
    "# Encontrar o candidato mais votado para cada candidato\n",
    "idx_max_votos = grouped.groupby(['NM_CANDIDATO'])['QT_COMPARECIMENTO'].idxmax()\n",
    "candidatos_mais_votados = grouped.loc[idx_max_votos]\n"
   ]
  },
  {
   "cell_type": "code",
   "execution_count": 22,
   "metadata": {},
   "outputs": [
    {
     "data": {
      "application/vnd.jupyter.widget-view+json": {
       "model_id": "ebe1760158134356ab03d8d79076e8e3",
       "version_major": 2,
       "version_minor": 0
      },
      "text/plain": [
       "Text(value='', description='Pesquisar:', placeholder='Digite o nome do candidato...')"
      ]
     },
     "metadata": {},
     "output_type": "display_data"
    },
    {
     "data": {
      "application/vnd.jupyter.widget-view+json": {
       "model_id": "e68f9064fb374386948027f246385fad",
       "version_major": 2,
       "version_minor": 0
      },
      "text/plain": [
       "interactive(children=(Dropdown(description='Candidato:', options=('A C CALCULISTA', 'A CASSIMIRO', 'A DONA ONÇ…"
      ]
     },
     "metadata": {},
     "output_type": "display_data"
    },
    {
     "data": {
      "text/plain": [
       "<function __main__.display_filtered_results(selected_candidato)>"
      ]
     },
     "execution_count": 22,
     "metadata": {},
     "output_type": "execute_result"
    }
   ],
   "source": [
    "# Função para atualizar a lista de candidatos com base no texto digitado\n",
    "def update_candidatos(change):\n",
    "    selected_text = change.new.lower()\n",
    "    if selected_text:\n",
    "        filtered_candidatos = candidatos_mais_votados[candidatos_mais_votados['NM_CANDIDATO'].str.lower().str.startswith(selected_text)]\n",
    "        candidatos_dropdown.options = filtered_candidatos['NM_CANDIDATO'].unique().tolist()\n",
    "    else:\n",
    "        candidatos_dropdown.options = candidatos_mais_votados['NM_CANDIDATO'].unique().tolist()\n",
    "\n",
    "# Função para exibir os resultados filtrados\n",
    "def display_filtered_results(selected_candidato):\n",
    "    clear_output(wait=True)  # Limpar saída anterior\n",
    "    filtered_results = candidatos_mais_votados[candidatos_mais_votados['NM_CANDIDATO'] == selected_candidato]\n",
    "    display(filtered_results)\n",
    "\n",
    "# Criar caixa de texto interativa\n",
    "search_box = widgets.Text(\n",
    "    value='',\n",
    "    placeholder='Digite o nome do candidato...',\n",
    "    description='Pesquisar:',\n",
    "    disabled=False\n",
    ")\n",
    "\n",
    "# Atualizar a lista de candidatos quando o texto for digitado\n",
    "search_box.observe(update_candidatos, names='value')\n",
    "\n",
    "# Criar dropdown para exibir os candidatos filtrados\n",
    "candidatos_dropdown = widgets.Dropdown(\n",
    "    options=candidatos_mais_votados['NM_CANDIDATO'].unique().tolist(),\n",
    "    description='Candidato:'\n",
    ")\n",
    "\n",
    "# Exibir caixa de texto e dropdown\n",
    "display(search_box)\n",
    "\n",
    "# Atualizar os resultados filtrados quando o usuário selecionar um candidato no dropdown\n",
    "widgets.interact(display_filtered_results, selected_candidato=candidatos_dropdown)\n"
   ]
  }
 ],
 "metadata": {
  "kernelspec": {
   "display_name": "Python 3",
   "language": "python",
   "name": "python3"
  },
  "language_info": {
   "codemirror_mode": {
    "name": "ipython",
    "version": 3
   },
   "file_extension": ".py",
   "mimetype": "text/x-python",
   "name": "python",
   "nbconvert_exporter": "python",
   "pygments_lexer": "ipython3",
   "version": "3.10.0"
  },
  "orig_nbformat": 4
 },
 "nbformat": 4,
 "nbformat_minor": 2
}
